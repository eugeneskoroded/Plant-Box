{
 "cells": [
  {
   "cell_type": "code",
   "execution_count": 1,
   "id": "f33404e4-ada1-4e22-a846-a2f27d5efb8d",
   "metadata": {},
   "outputs": [
    {
     "name": "stderr",
     "output_type": "stream",
     "text": [
      "C:\\Users\\Ilia\\AppData\\Roaming\\Python\\Python310\\site-packages\\fuzzywuzzy\\fuzz.py:11: UserWarning: Using slow pure-python SequenceMatcher. Install python-Levenshtein to remove this warning\n",
      "  warnings.warn('Using slow pure-python SequenceMatcher. Install python-Levenshtein to remove this warning')\n"
     ]
    },
    {
     "name": "stdout",
     "output_type": "stream",
     "text": [
      "Found model file.\n"
     ]
    }
   ],
   "source": [
    "from functions import Translating, get_category_info, create_plants_information\n",
    "from flask import Flask, request, jsonify\n",
    "from model import GPT\n",
    "from name_detector import get_plants\n",
    "\n",
    "app = Flask(__name__)\n",
    "\n",
    "gptj = GPT(\"ggml-gpt4all-j-v1.3-groovy\")\n",
    "tr = Translating()"
   ]
  },
  {
   "cell_type": "code",
   "execution_count": 2,
   "id": "41e56b01-2823-4a85-8418-5c4eb2d24d70",
   "metadata": {},
   "outputs": [],
   "source": [
    "PROMPT = \"\"\"### Instruction:\n",
    "You are helpful chatbot.\n",
    "Based on this text answer questions:\n",
    " _PLANTSINFO_\n",
    "\n",
    "### Prompt: \n",
    " _QUESTION_\n",
    "\"\"\"\n",
    "\n",
    "INVALID_RESPONSE = \"\"\"Недостаточно информации, повторите запрос (возможно растение отсутствует в базе)\"\"\""
   ]
  },
  {
   "cell_type": "code",
   "execution_count": 3,
   "id": "143efa8b-69f1-4e17-9a37-e1b723ec7d78",
   "metadata": {},
   "outputs": [],
   "source": [
    "@app.route('/get_answer', methods=['POST'])\n",
    "def process_text():\n",
    "    question  = request.form.get('text')\n",
    "    \n",
    "    print(question)\n",
    "    \n",
    "    #question = \"Расскажи про ареал и сырье аира обыкновенного?\"\n",
    "    \n",
    "    plants = get_plants(question)\n",
    "    \n",
    "    if not plants:\n",
    "        return jsonify({'response': INVALID_RESPONSE})\n",
    "    \n",
    "    #plants = ['аир обыкновенный']\n",
    "    \n",
    "    categories= ['Ареал', 'Сырьё']\n",
    "    \n",
    "    plants_info_en = create_plants_information(plants, categories)\n",
    "    question_en = tr.to_english(question)\n",
    "    \n",
    "    instruction = PROMPT.replace(\"_PLANTSINFO_\", plants_info_en).replace(\"_QUESTION_\", question_en)\n",
    "    \n",
    "    response = tr.to_russian(gptj.get_response(instruction))\n",
    "\n",
    "    return jsonify({'response': response})"
   ]
  },
  {
   "cell_type": "code",
   "execution_count": 4,
   "id": "125e64df-b74a-4074-9665-f68d9504a3bb",
   "metadata": {},
   "outputs": [
    {
     "name": "stdout",
     "output_type": "stream",
     "text": [
      " * Serving Flask app '__main__'\n",
      " * Debug mode: off\n"
     ]
    },
    {
     "name": "stderr",
     "output_type": "stream",
     "text": [
      "WARNING: This is a development server. Do not use it in a production deployment. Use a production WSGI server instead.\n",
      " * Running on all addresses (0.0.0.0)\n",
      " * Running on http://127.0.0.1:3333\n",
      " * Running on http://192.168.100.13:3333\n",
      "Press CTRL+C to quit\n",
      "127.0.0.1 - - [21/May/2023 08:30:48] \"POST /get_answer HTTP/1.1\" 200 -\n"
     ]
    },
    {
     "name": "stdout",
     "output_type": "stream",
     "text": [
      "Привет\n"
     ]
    }
   ],
   "source": [
    "if __name__ == '__main__':\n",
    "    app.run(\"0.0.0.0\", port=3333)"
   ]
  },
  {
   "cell_type": "code",
   "execution_count": 5,
   "id": "08bed359-1289-4e67-8921-72709b51d8d9",
   "metadata": {},
   "outputs": [
    {
     "name": "stdout",
     "output_type": "stream",
     "text": [
      "Defaulting to user installation because normal site-packages is not writeable\n",
      "Requirement already satisfied: gunicorn in c:\\users\\ilia\\appdata\\roaming\\python\\python310\\site-packages (20.1.0)\n",
      "Requirement already satisfied: setuptools>=3.0 in c:\\programdata\\anaconda3\\lib\\site-packages (from gunicorn) (65.6.3)\n"
     ]
    },
    {
     "name": "stderr",
     "output_type": "stream",
     "text": [
      "\n",
      "[notice] A new release of pip is available: 23.0.1 -> 23.1.2\n",
      "[notice] To update, run: python.exe -m pip install --upgrade pip\n"
     ]
    }
   ],
   "source": [
    "!pip install gunicorn"
   ]
  },
  {
   "cell_type": "code",
   "execution_count": 3,
   "id": "2909870f-79c8-401f-80f0-7a04da5347e4",
   "metadata": {},
   "outputs": [],
   "source": [
    "question = \"Расскажи про ареал и сырье аира обыкновенного?\""
   ]
  },
  {
   "cell_type": "code",
   "execution_count": 4,
   "id": "4c10d433-30f6-4ff8-be74-ea639b29f66d",
   "metadata": {},
   "outputs": [],
   "source": [
    "plants = ['аир обыкновенный']\n",
    "categories= ['Ареал', 'Сырьё']"
   ]
  },
  {
   "cell_type": "code",
   "execution_count": 5,
   "id": "69bd2df4-2334-46ce-a912-bb592be0ca17",
   "metadata": {},
   "outputs": [],
   "source": [
    "plants_info_en = create_plants_information(plants, categories)"
   ]
  },
  {
   "cell_type": "code",
   "execution_count": 6,
   "id": "4b314569-8aef-43e7-8aaf-d648eac86c5a",
   "metadata": {},
   "outputs": [
    {
     "data": {
      "text/plain": [
       "'CALAMUS VULGARIS:\\nArea:\\n<s>Output:\\n\\n1. Calamus range covers a significant part of the territory\\nEurasian continent, including Russia, Kazakhstan,\\nChina, Mongolia, North and South Korea, Japan,\\nIndia, Sri Lanka and North America.\\n\\n2. The boundaries of the calamus range are mainly along the rivers,\\nincluding along the Ob, Yenisei, Angara, Vilyui, Amur,\\nShilke and Selemdzhe.\\n\\n3. On the territory of Russia, calamus occurs in various\\nareas, including forested areas, floodplains, wetlands\\nplaces, mountain ranges, coasts of the seas and oceans.\\n\\n4. In Asia, calamus is found in China,\\nMongolia, North and South Korea, Japan, Sri\\nLanka and North America.</s>\\n\\nRaw Materials:\\n<s>The quality of raw materials is standardized by the State Pharmacopoeia of the Russian Federation XIV ed. (2018) FS.2.5.0056.18 \"Acorus common rhizome\".</s>\\n\\n'"
      ]
     },
     "execution_count": 6,
     "metadata": {},
     "output_type": "execute_result"
    }
   ],
   "source": [
    "plants_info_en"
   ]
  },
  {
   "cell_type": "code",
   "execution_count": 95,
   "id": "21f9befe-7a8b-4ab1-b5da-d6575b82b3f9",
   "metadata": {},
   "outputs": [],
   "source": [
    "question_en = tr.to_english(question)"
   ]
  },
  {
   "cell_type": "code",
   "execution_count": 7,
   "id": "a521e217-4eaa-460d-bfe4-20fbb09e4de4",
   "metadata": {},
   "outputs": [
    {
     "name": "stdout",
     "output_type": "stream",
     "text": [
      "CALAMUS VULGARIS:\n",
      "Area:\n",
      "<s>Output:\n",
      "\n",
      "1. Calamus range covers a significant part of the territory\n",
      "Eurasian continent, including Russia, Kazakhstan,\n",
      "China, Mongolia, North and South Korea, Japan,\n",
      "India, Sri Lanka and North America.\n",
      "\n",
      "2. The boundaries of the calamus range are mainly along the rivers,\n",
      "including along the Ob, Yenisei, Angara, Vilyui, Amur,\n",
      "Shilke and Selemdzhe.\n",
      "\n",
      "3. On the territory of Russia, calamus occurs in various\n",
      "areas, including forested areas, floodplains, wetlands\n",
      "places, mountain ranges, coasts of the seas and oceans.\n",
      "\n",
      "4. In Asia, calamus is found in China,\n",
      "Mongolia, North and South Korea, Japan, Sri\n",
      "Lanka and North America.</s>\n",
      "\n",
      "Raw Materials:\n",
      "<s>The quality of raw materials is standardized by the State Pharmacopoeia of the Russian Federation XIV ed. (2018) FS.2.5.0056.18 \"Acorus common rhizome\".</s>\n",
      "\n",
      "\n"
     ]
    }
   ],
   "source": [
    "print(plants_info_en)"
   ]
  },
  {
   "cell_type": "code",
   "execution_count": 113,
   "id": "044379a1-5adb-43b7-b3e0-76a0fe1dee24",
   "metadata": {},
   "outputs": [
    {
     "data": {
      "text/plain": [
       "'Tell us about the range and raw materials of calamus?'"
      ]
     },
     "execution_count": 113,
     "metadata": {},
     "output_type": "execute_result"
    }
   ],
   "source": [
    "question_en"
   ]
  },
  {
   "cell_type": "code",
   "execution_count": 130,
   "id": "d38e70c9-0c05-4164-b978-96d4ed99c830",
   "metadata": {},
   "outputs": [],
   "source": [
    "PROMPT = \"\"\"### Instruction:\n",
    "Based on this text answer a question\n",
    "_PLANTSINFO_\n",
    "\n",
    "### Prompt: \n",
    "1) _QUESTION_\n",
    "\"\"\""
   ]
  },
  {
   "cell_type": "code",
   "execution_count": 125,
   "id": "e9a72659-87bd-477b-9c88-96ea510558f3",
   "metadata": {},
   "outputs": [],
   "source": [
    "PROMPT = \"\"\"### Instruction:\n",
    "You are helpful chatbot. You will receive a text and you have to answer questions about it.\n",
    "### Prompt:\n",
    "Text: _PLANTSINFO_ Questions to answer: _QUESTION_\n",
    "\"\"\""
   ]
  },
  {
   "cell_type": "code",
   "execution_count": 131,
   "id": "c5ab166a-4bd6-4ec1-ab17-ee3d0a3330e9",
   "metadata": {},
   "outputs": [],
   "source": [
    "instruction = PROMPT.replace(\"_PLANTSINFO_\", plants_info_en).replace(\"_QUESTION_\", question_en)"
   ]
  },
  {
   "cell_type": "code",
   "execution_count": 127,
   "id": "90ddc849-b30b-44aa-aef4-9414e21bf3a1",
   "metadata": {},
   "outputs": [
    {
     "name": "stdout",
     "output_type": "stream",
     "text": [
      "### Instruction:\n",
      "You are helpful chatbot. You will receive a text and you have to answer questions about it.\n",
      "### Prompt:\n",
      "Text: CALAMUS VULGARIS:\n",
      "Area:\n",
      "<s>Output:\n",
      "\n",
      "1. Calamus range covers a significant part of the territory\n",
      "Eurasian continent, including Russia, Kazakhstan,\n",
      "China, Mongolia, North and South Korea, Japan,\n",
      "India, Sri Lanka and North America.\n",
      "\n",
      "2. The boundaries of the calamus range are mainly along the rivers,\n",
      "including along the Ob, Yenisei, Angara, Vilyui, Amur,\n",
      "Shilke and Selemdzhe.\n",
      "\n",
      "3. On the territory of Russia, calamus occurs in various\n",
      "areas, including forested areas, floodplains, wetlands\n",
      "places, mountain ranges, coasts of the seas and oceans.\n",
      "\n",
      "4. In Asia, calamus is found in China,\n",
      "Mongolia, North and South Korea, Japan, Sri\n",
      "Lanka and North America.</s>\n",
      "\n",
      "Raw Materials:\n",
      "<s>The quality of raw materials is standardized by the State Pharmacopoeia of the Russian Federation XIV ed. (2018) FS.2.5.0056.18 \"Acorus common rhizome\".</s>\n",
      "\n",
      " Questions to answer: Tell us about the range and raw materials of calamus?\n",
      "\n"
     ]
    }
   ],
   "source": [
    "print(instruction)"
   ]
  },
  {
   "cell_type": "code",
   "execution_count": 129,
   "id": "3daf1432-88cf-4b50-ad0e-22b67bbbdb4e",
   "metadata": {},
   "outputs": [
    {
     "data": {
      "text/plain": [
       "'### Instruction:\\nYou are helpful chatbot. You will receive a text and you have to answer questions about it.\\n### Prompt:\\nText: CALAMUS VULGARIS:\\nArea:\\n<s>Output:\\n\\n1. Calamus range covers a significant part of the territory\\nEurasian continent, including Russia, Kazakhstan,\\nChina, Mongolia, North and South Korea, Japan,\\nIndia, Sri Lanka and North America.\\n\\n2. The boundaries of the calamus range are mainly along the rivers,\\nincluding along the Ob, Yenisei, Angara, Vilyui, Amur,\\nShilke and Selemdzhe.\\n\\n3. On the territory of Russia, calamus occurs in various\\nareas, including forested areas, floodplains, wetlands\\nplaces, mountain ranges, coasts of the seas and oceans.\\n\\n4. In Asia, calamus is found in China,\\nMongolia, North and South Korea, Japan, Sri\\nLanka and North America.</s>\\n\\nRaw Materials:\\n<s>The quality of raw materials is standardized by the State Pharmacopoeia of the Russian Federation XIV ed. (2018) FS.2.5.0056.18 \"Acorus common rhizome\".</s>\\n\\n Questions to answer: Tell us about the range and raw materials of calamus?\\n'"
      ]
     },
     "execution_count": 129,
     "metadata": {},
     "output_type": "execute_result"
    }
   ],
   "source": [
    "instruction"
   ]
  },
  {
   "cell_type": "code",
   "execution_count": 107,
   "id": "975fb333-3230-4ba5-af67-55663ef91a6e",
   "metadata": {},
   "outputs": [],
   "source": [
    "response = \"Calamus range covers a significant part of the territory, including Russia, Kazakhstan, China, Mongolia, North and South Korea, Japan, India, Sri Lanka, and North America. The boundaries of the calamu's range are mainly along rivers, including the Ob, Yenisei, Angara, Vilyui, Amur, Shiilke and Seledzhe. On the territory of Russia, calamu's occurs in various areas such as forested, floodplain, wetlands places, mountain ranges, coasts of the seas and oceans. In Asia, calamu's is found in China, Mongolia\""
   ]
  },
  {
   "cell_type": "code",
   "execution_count": 108,
   "id": "6a027a2b-dc80-4e48-ac85-54f0db043837",
   "metadata": {},
   "outputs": [
    {
     "data": {
      "text/plain": [
       "\"Calamus range covers a significant part of the territory, including Russia, Kazakhstan, China, Mongolia, North and South Korea, Japan, India, Sri Lanka, and North America. The boundaries of the calamu's range are mainly along rivers, including the Ob, Yenisei, Angara, Vilyui, Amur, Shiilke and Seledzhe. On the territory of Russia, calamu's occurs in various areas such as forested, floodplain, wetlands places, mountain ranges, coasts of the seas and oceans. In Asia, calamu's is found in China, Mongolia\""
      ]
     },
     "execution_count": 108,
     "metadata": {},
     "output_type": "execute_result"
    }
   ],
   "source": [
    "response"
   ]
  },
  {
   "cell_type": "code",
   "execution_count": 109,
   "id": "f1c53d6b-c50d-4f95-b4ce-30fa546fe20c",
   "metadata": {},
   "outputs": [
    {
     "data": {
      "text/plain": [
       "'Ареал аира охватывает значительную часть территории, включая Россию, Казахстан, Китай, Монголию, Северную и Южную Корею, Японию, Индию, Шри-Ланку, Северную Америку. Границы ареала аира проходят в основном по рекам, в том числе Оби, Енисею, Ангаре, Вилюю, Амуру, Шиилке и Селедже. На территории России аир встречается в различных районах, таких как лесные, пойменные, заболоченные места, горные хребты, побережья морей и океанов. В Азии аир встречается в Китае, Монголии.'"
      ]
     },
     "execution_count": 109,
     "metadata": {},
     "output_type": "execute_result"
    }
   ],
   "source": [
    "tr.to_russian(response)"
   ]
  },
  {
   "cell_type": "code",
   "execution_count": 105,
   "id": "695293e4-3821-4216-87d8-3f8877a1be80",
   "metadata": {},
   "outputs": [
    {
     "name": "stdout",
     "output_type": "stream",
     "text": [
      "### Instruction:\n",
      "CALAMUS VULGARIS:\n",
      "Area:\n",
      "<s>Output:\n",
      "\n",
      "1. Calamus range covers a significant part of the territory\n",
      "Eurasian continent, including Russia, Kazakhstan,\n",
      "China, Mongolia, North and South Korea, Japan,\n",
      "India, Sri Lanka and North America.\n",
      "\n",
      "2. The boundaries of the calamus range are mainly along the rivers,\n",
      "including along the Ob, Yenisei, Angara, Vilyui, Amur,\n",
      "Shilke and Selemdzhe.\n",
      "\n",
      "3. On the territory of Russia, calamus occurs in various\n",
      "areas, including forested areas, floodplains, wetlands\n",
      "places, mountain ranges, coasts of the seas and oceans.\n",
      "\n",
      "4. In Asia, calamus is found in China,\n",
      "Mongolia, North and South Korea, Japan, Sri\n",
      "Lanka and North America.</s>\n",
      "\n",
      "Raw Materials:\n",
      "<s>The quality of raw materials is standardized by the State Pharmacopoeia of the Russian Federation XIV ed. (2018) FS.2.5.0056.18 \"Acorus common rhizome\".</s>\n",
      "\n",
      "\n",
      "Based on this text answer a question\n",
      "\n",
      "### Prompt: \n",
      "Tell us about the range and raw materials of calamus?\n",
      "\n"
     ]
    }
   ],
   "source": [
    "print(instruction"
   ]
  },
  {
   "cell_type": "code",
   "execution_count": 84,
   "id": "6ea78c2f-5537-4965-b938-8f05cce63d68",
   "metadata": {},
   "outputs": [
    {
     "name": "stdout",
     "output_type": "stream",
     "text": [
      "CALAMUS VULGARIS:\n",
      "Area:\n",
      "<s>Output:\n",
      "\n",
      "1. Calamus range covers a significant part of the territory\n",
      "Eurasian continent, including Russia, Kazakhstan,\n",
      "China, Mongolia, North and South Korea, Japan,\n",
      "India, Sri Lanka and North America.\n",
      "\n",
      "2. The boundaries of the calamus range are mainly along the rivers,\n",
      "including along the Ob, Yenisei, Angara, Vilyui, Amur,\n",
      "Shilke and Selemdzhe.\n",
      "\n",
      "3. On the territory of Russia, calamus occurs in various\n",
      "areas, including forested areas, floodplains, wetlands\n",
      "places, mountain ranges, coasts of the seas and oceans.\n",
      "\n",
      "4. In Asia, calamus is found in China,\n",
      "Mongolia, North and South Korea, Japan, Sri\n",
      "Lanka and North America.</s>\n",
      "\n",
      "Raw Materials:\n",
      "<s>The quality of raw materials is standardized by the State Pharmacopoeia of the Russian Federation XIV ed. (2018) FS.2.5.0056.18 \"Acorus common rhizome\".</s>\n",
      "\n",
      "\n"
     ]
    }
   ],
   "source": [
    "print(prompt)"
   ]
  },
  {
   "cell_type": "code",
   "execution_count": null,
   "id": "1ef0a984-9a99-4f5d-b76d-23a29915c63b",
   "metadata": {},
   "outputs": [],
   "source": [
    "for i in range(len(mas)-1):\n",
    "    mas[i] + mas[i+1]"
   ]
  },
  {
   "cell_type": "code",
   "execution_count": null,
   "id": "1f84e04c-c3dd-4cda-a564-535fa64c371b",
   "metadata": {},
   "outputs": [],
   "source": [
    "[\"растения\", \"растение борец\"]"
   ]
  }
 ],
 "metadata": {
  "kernelspec": {
   "display_name": "Python 3 (ipykernel)",
   "language": "python",
   "name": "python3"
  },
  "language_info": {
   "codemirror_mode": {
    "name": "ipython",
    "version": 3
   },
   "file_extension": ".py",
   "mimetype": "text/x-python",
   "name": "python",
   "nbconvert_exporter": "python",
   "pygments_lexer": "ipython3",
   "version": "3.10.9"
  }
 },
 "nbformat": 4,
 "nbformat_minor": 5
}
