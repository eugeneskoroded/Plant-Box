{
 "cells": [
  {
   "cell_type": "code",
   "execution_count": 1,
   "id": "cb00d371-f9d3-4282-94ae-29f5aeff9738",
   "metadata": {},
   "outputs": [],
   "source": [
    "import pandas as pd\n",
    "import numpy as np\n",
    "import re\n",
    "from tqdm import tqdm\n",
    "import os"
   ]
  },
  {
   "cell_type": "code",
   "execution_count": 2,
   "id": "d2f16b62-c1f5-4e5b-a07b-4292239c7714",
   "metadata": {},
   "outputs": [],
   "source": [
    "df1 = pd.read_csv(\"part1.csv\")\n",
    "df2 = pd.read_csv(\"part2.csv\")"
   ]
  },
  {
   "cell_type": "code",
   "execution_count": 3,
   "id": "f3149a15-f96b-4f28-9703-e50b5f8f887e",
   "metadata": {
    "tags": []
   },
   "outputs": [],
   "source": [
    "df11 = pd.read_csv(\"part1.1.csv\")\n",
    "df22 = pd.read_csv(\"part2.2.csv\")"
   ]
  },
  {
   "cell_type": "code",
   "execution_count": 4,
   "id": "2c1f3e88-3a55-41b5-a6aa-04f535da74a4",
   "metadata": {},
   "outputs": [],
   "source": [
    "name = \"Описание\"\n",
    "df1[name] = df11[name]\n",
    "df2[name] = df22[name]"
   ]
  },
  {
   "cell_type": "code",
   "execution_count": 5,
   "id": "594a636a-81fc-4a2b-acc3-91a1446abec8",
   "metadata": {},
   "outputs": [],
   "source": [
    "df = pd.concat([df1,df2]).reset_index(drop=True)"
   ]
  },
  {
   "cell_type": "code",
   "execution_count": 6,
   "id": "f607d0c7-8688-4315-94ad-6fef7bc4c81d",
   "metadata": {},
   "outputs": [
    {
     "data": {
      "text/html": [
       "<div>\n",
       "<style scoped>\n",
       "    .dataframe tbody tr th:only-of-type {\n",
       "        vertical-align: middle;\n",
       "    }\n",
       "\n",
       "    .dataframe tbody tr th {\n",
       "        vertical-align: top;\n",
       "    }\n",
       "\n",
       "    .dataframe thead th {\n",
       "        text-align: right;\n",
       "    }\n",
       "</style>\n",
       "<table border=\"1\" class=\"dataframe\">\n",
       "  <thead>\n",
       "    <tr style=\"text-align: right;\">\n",
       "      <th></th>\n",
       "      <th>Unnamed: 0</th>\n",
       "      <th>Название</th>\n",
       "      <th>Атлас</th>\n",
       "      <th>Описание</th>\n",
       "      <th>Другие виды</th>\n",
       "      <th>Ареал</th>\n",
       "      <th>Экология</th>\n",
       "      <th>Ресурсы</th>\n",
       "      <th>Возделывание</th>\n",
       "      <th>Химический состав</th>\n",
       "      <th>Сырьё</th>\n",
       "      <th>Фармакологические свойства</th>\n",
       "      <th>Применение в медицине</th>\n",
       "    </tr>\n",
       "  </thead>\n",
       "  <tbody>\n",
       "    <tr>\n",
       "      <th>0</th>\n",
       "      <td>0</td>\n",
       "      <td>аденостилес ромболистный</td>\n",
       "      <td>\\n\\nАДЕНОСТИЛЕС РОМБОЛИСТНЫЙ\\n(крестовник плат...</td>\n",
       "      <td>&lt;s&gt;Выходные данные: Адестилес ромболистный (Ad...</td>\n",
       "      <td>NaN</td>\n",
       "      <td>&lt;s&gt;Ареал аденостилеса ромболистного простирает...</td>\n",
       "      <td>&lt;s&gt;Выходные данные: Аденостилес растет в горно...</td>\n",
       "      <td>&lt;s&gt;Выходные данные: Запасы сырья аденостилеса ...</td>\n",
       "      <td>NaN</td>\n",
       "      <td>&lt;s&gt;Выходные данные:\\n\\nСумма алкалоидов:\\n- в ...</td>\n",
       "      <td>&lt;s&gt;Выходные данные: Сырьё. Качество сырья норм...</td>\n",
       "      <td>&lt;s&gt;Выходные данные: Алкалоиды крестовника обла...</td>\n",
       "      <td>&lt;s&gt;Выходные данные: Платифиллин (таблетки, рас...</td>\n",
       "    </tr>\n",
       "    <tr>\n",
       "      <th>1</th>\n",
       "      <td>1</td>\n",
       "      <td>аир обыкновенный</td>\n",
       "      <td>\\n\\nАИР ОБЫКНОВЕННЫЙ \\nAcorus calamus L.\\n\\nСе...</td>\n",
       "      <td>&lt;s&gt;Выходные данные: Аир болотный (Arctium \\nbо...</td>\n",
       "      <td>NaN</td>\n",
       "      <td>&lt;s&gt;Выходные данные:\\n\\n1. Ареал аира охватывае...</td>\n",
       "      <td>&lt;s&gt;Выходные данные: Аир - прибрежно-водное рас...</td>\n",
       "      <td>&lt;s&gt;Выход сухого сырья составляет 22-24%.&lt;/s&gt;</td>\n",
       "      <td>NaN</td>\n",
       "      <td>&lt;s&gt;Выходные данные: В листьях содержится крахм...</td>\n",
       "      <td>&lt;s&gt;Качество сырья нормируется Государственной ...</td>\n",
       "      <td>&lt;s&gt;Выходные данные: Настой из корневищ аира ок...</td>\n",
       "      <td>&lt;s&gt;Выходные данные: Препараты из корневищ аира...</td>\n",
       "    </tr>\n",
       "    <tr>\n",
       "      <th>2</th>\n",
       "      <td>2</td>\n",
       "      <td>алоэ древовидное (столетник)</td>\n",
       "      <td>\\n\\nАЛОЭ ДРЕВОВИДНОЕ (столетник)\\nAlоe arbores...</td>\n",
       "      <td>&lt;s&gt;Выходные данные: Суккулентный кустарник выс...</td>\n",
       "      <td>NaN</td>\n",
       "      <td>&lt;s&gt;Выходные данные: Родиной алоэ является Южна...</td>\n",
       "      <td>&lt;s&gt;Выходные данные: Африка. Засушливые районы ...</td>\n",
       "      <td>&lt;s&gt;В России нет дикорастущего алоэ. В нашей ст...</td>\n",
       "      <td>&lt;s&gt;Выращивание алоэ в закрытом грунте. В услов...</td>\n",
       "      <td>&lt;s&gt;Выходные данные: В соке побегов содержатся ...</td>\n",
       "      <td>&lt;s&gt;Выходные данные: ФС 42-987-87 \"Побег алоэ д...</td>\n",
       "      <td>&lt;s&gt;Выходные данные: Сироп алоэ с железом содер...</td>\n",
       "      <td>&lt;s&gt;Выходные данные: Алоэ-плюс гранулы гомеопат...</td>\n",
       "    </tr>\n",
       "  </tbody>\n",
       "</table>\n",
       "</div>"
      ],
      "text/plain": [
       "   Unnamed: 0                      Название  \\\n",
       "0           0      аденостилес ромболистный   \n",
       "1           1              аир обыкновенный   \n",
       "2           2  алоэ древовидное (столетник)   \n",
       "\n",
       "                                               Атлас  \\\n",
       "0  \\n\\nАДЕНОСТИЛЕС РОМБОЛИСТНЫЙ\\n(крестовник плат...   \n",
       "1  \\n\\nАИР ОБЫКНОВЕННЫЙ \\nAcorus calamus L.\\n\\nСе...   \n",
       "2  \\n\\nАЛОЭ ДРЕВОВИДНОЕ (столетник)\\nAlоe arbores...   \n",
       "\n",
       "                                            Описание Другие виды  \\\n",
       "0  <s>Выходные данные: Адестилес ромболистный (Ad...         NaN   \n",
       "1  <s>Выходные данные: Аир болотный (Arctium \\nbо...         NaN   \n",
       "2  <s>Выходные данные: Суккулентный кустарник выс...         NaN   \n",
       "\n",
       "                                               Ареал  \\\n",
       "0  <s>Ареал аденостилеса ромболистного простирает...   \n",
       "1  <s>Выходные данные:\\n\\n1. Ареал аира охватывае...   \n",
       "2  <s>Выходные данные: Родиной алоэ является Южна...   \n",
       "\n",
       "                                            Экология  \\\n",
       "0  <s>Выходные данные: Аденостилес растет в горно...   \n",
       "1  <s>Выходные данные: Аир - прибрежно-водное рас...   \n",
       "2  <s>Выходные данные: Африка. Засушливые районы ...   \n",
       "\n",
       "                                             Ресурсы  \\\n",
       "0  <s>Выходные данные: Запасы сырья аденостилеса ...   \n",
       "1       <s>Выход сухого сырья составляет 22-24%.</s>   \n",
       "2  <s>В России нет дикорастущего алоэ. В нашей ст...   \n",
       "\n",
       "                                        Возделывание  \\\n",
       "0                                                NaN   \n",
       "1                                                NaN   \n",
       "2  <s>Выращивание алоэ в закрытом грунте. В услов...   \n",
       "\n",
       "                                   Химический состав  \\\n",
       "0  <s>Выходные данные:\\n\\nСумма алкалоидов:\\n- в ...   \n",
       "1  <s>Выходные данные: В листьях содержится крахм...   \n",
       "2  <s>Выходные данные: В соке побегов содержатся ...   \n",
       "\n",
       "                                               Сырьё  \\\n",
       "0  <s>Выходные данные: Сырьё. Качество сырья норм...   \n",
       "1  <s>Качество сырья нормируется Государственной ...   \n",
       "2  <s>Выходные данные: ФС 42-987-87 \"Побег алоэ д...   \n",
       "\n",
       "                          Фармакологические свойства  \\\n",
       "0  <s>Выходные данные: Алкалоиды крестовника обла...   \n",
       "1  <s>Выходные данные: Настой из корневищ аира ок...   \n",
       "2  <s>Выходные данные: Сироп алоэ с железом содер...   \n",
       "\n",
       "                               Применение в медицине  \n",
       "0  <s>Выходные данные: Платифиллин (таблетки, рас...  \n",
       "1  <s>Выходные данные: Препараты из корневищ аира...  \n",
       "2  <s>Выходные данные: Алоэ-плюс гранулы гомеопат...  "
      ]
     },
     "execution_count": 6,
     "metadata": {},
     "output_type": "execute_result"
    }
   ],
   "source": [
    "df.head(3)"
   ]
  },
  {
   "cell_type": "code",
   "execution_count": 7,
   "id": "cba246d8-2571-45cb-a19c-6919a8b52745",
   "metadata": {},
   "outputs": [],
   "source": [
    "names = ['Атлас','Описание','Другие виды','Ареал','Экология','Ресурсы','Возделывание','Химический состав','Сырьё','Фармакологические свойства','Применение в медицине']"
   ]
  },
  {
   "cell_type": "code",
   "execution_count": 8,
   "id": "be4ddf60-7578-4061-99f5-f4192915177c",
   "metadata": {},
   "outputs": [],
   "source": [
    "for el in names:\n",
    "    df[el] = df[el].map(lambda x: x.replace('\\n','') if type(x)!=float else np.nan)\n",
    "    df[el] = df[el].map(lambda x: x.replace('<s>','') if type(x)!=float else np.nan)\n",
    "    df[el] = df[el].map(lambda x: x.replace('</s>','') if type(x)!=float else np.nan)\n",
    "    df[el] = df[el].map(lambda x: x.replace('Выходные данные:','') if type(x)!=float else np.nan)"
   ]
  },
  {
   "cell_type": "code",
   "execution_count": 9,
   "id": "a70887bb-7304-4cab-b796-ab77b337d851",
   "metadata": {},
   "outputs": [
    {
     "data": {
      "text/plain": [
       "' Вербена лекарственная (Verbena officinalis) - многолетнее травянистое растение высотой 40-70 см. Стебель - четырехгранный, жесткий, прямой, в верхней части разветвленный. Листья - супротивные, яйцевидно-продолговатые. Чашечка - железистоопушенная, длиной 1-4 мм. Венчик - фиолетово-розовый, светло-лиловый или беловатый. Плоды - мелкие, продолговато-линейные, бурые или коричневые орешки. Растет в июне-августе, плоды созревают в августе-октябре. Лекарственным сырьем является надземная часть (трава) вербены лекарственной.'"
      ]
     },
     "execution_count": 9,
     "metadata": {},
     "output_type": "execute_result"
    }
   ],
   "source": [
    "df[\"Описание\"][32]"
   ]
  },
  {
   "cell_type": "code",
   "execution_count": 10,
   "id": "2054bbec-529c-4eb6-8fbf-8dca48fe524d",
   "metadata": {},
   "outputs": [],
   "source": [
    "def delete_round_brackets(text):\n",
    "    pattern = r'\\([^()]*\\)'  # Matches anything within round brackets, including the brackets themselves\n",
    "    result = re.sub(pattern, '', text).strip()\n",
    "    return result\n"
   ]
  },
  {
   "cell_type": "code",
   "execution_count": 11,
   "id": "0398d2bf-ca35-4225-867b-5ca3139ab1f5",
   "metadata": {},
   "outputs": [],
   "source": [
    "df['Название'] = df['Название'].apply(delete_round_brackets)"
   ]
  },
  {
   "cell_type": "code",
   "execution_count": 12,
   "id": "acf82037-1e3b-4edf-bfac-d40267f23d04",
   "metadata": {},
   "outputs": [],
   "source": [
    "df.to_csv(\"features.csv\", index=False)"
   ]
  },
  {
   "cell_type": "code",
   "execution_count": 13,
   "id": "1b1bc1a7-e40f-4b01-95d4-729143615435",
   "metadata": {},
   "outputs": [],
   "source": [
    "columns = ['Описание', 'Другие виды', 'Ареал',\n",
    "       'Экология', 'Ресурсы', 'Возделывание', 'Химический состав', 'Сырьё',\n",
    "       'Фармакологические свойства', 'Применение в медицине']"
   ]
  },
  {
   "cell_type": "code",
   "execution_count": 14,
   "id": "d100bce9-ed12-44e7-aee4-5fcf1b59f21c",
   "metadata": {},
   "outputs": [],
   "source": [
    "def create_knowladge_base(new_df):\n",
    "    for index, row in tqdm(new_df.iterrows()):\n",
    "        folder_name = row[\"Название\"]\n",
    "        folder_path = f'texts/{folder_name}/'\n",
    "\n",
    "        try:\n",
    "            os.makedirs(folder_path)\n",
    "        except:\n",
    "            pass\n",
    "\n",
    "        for column in columns:\n",
    "            text = row[column]\n",
    "            if type(text) == str:\n",
    "                try:\n",
    "                    with open(folder_path+column+'.txt', 'w', encoding=\"utf-8\") as f:\n",
    "                        f.write(text)\n",
    "                except:\n",
    "                    print(text)"
   ]
  },
  {
   "cell_type": "code",
   "execution_count": 15,
   "id": "03efbf59-71cf-4933-adad-2bdb6922f47a",
   "metadata": {},
   "outputs": [
    {
     "name": "stderr",
     "output_type": "stream",
     "text": [
      "193it [00:01, 140.43it/s]\n"
     ]
    }
   ],
   "source": [
    "create_knowladge_base(df)"
   ]
  },
  {
   "cell_type": "code",
   "execution_count": null,
   "id": "2c427e7f-8b5b-4e69-8fa7-115b3bc0ed43",
   "metadata": {},
   "outputs": [],
   "source": []
  },
  {
   "cell_type": "code",
   "execution_count": null,
   "id": "562f9973-9330-422d-9439-8d7b4a0cda4a",
   "metadata": {},
   "outputs": [],
   "source": []
  }
 ],
 "metadata": {
  "kernelspec": {
   "display_name": "Python 3 (ipykernel)",
   "language": "python",
   "name": "python3"
  },
  "language_info": {
   "codemirror_mode": {
    "name": "ipython",
    "version": 3
   },
   "file_extension": ".py",
   "mimetype": "text/x-python",
   "name": "python",
   "nbconvert_exporter": "python",
   "pygments_lexer": "ipython3",
   "version": "3.10.9"
  }
 },
 "nbformat": 4,
 "nbformat_minor": 5
}
