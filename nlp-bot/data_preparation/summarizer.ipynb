{
 "cells": [
  {
   "cell_type": "code",
   "execution_count": 1,
   "id": "f3340e3c",
   "metadata": {},
   "outputs": [],
   "source": [
    "from transformers import AutoTokenizer, AutoModelForSeq2SeqLM\n",
    "import pandas as pd\n",
    "from tqdm import tqdm\n",
    "from transformers import GenerationConfig"
   ]
  },
  {
   "cell_type": "code",
   "execution_count": 2,
   "id": "7f851fe1",
   "metadata": {},
   "outputs": [
    {
     "data": {
      "text/plain": [
       "T5ForConditionalGeneration(\n",
       "  (shared): Embedding(50365, 1536)\n",
       "  (encoder): T5Stack(\n",
       "    (embed_tokens): Embedding(50365, 1536)\n",
       "    (block): ModuleList(\n",
       "      (0): T5Block(\n",
       "        (layer): ModuleList(\n",
       "          (0): T5LayerSelfAttention(\n",
       "            (SelfAttention): T5Attention(\n",
       "              (q): Linear(in_features=1536, out_features=1536, bias=False)\n",
       "              (k): Linear(in_features=1536, out_features=1536, bias=False)\n",
       "              (v): Linear(in_features=1536, out_features=1536, bias=False)\n",
       "              (o): Linear(in_features=1536, out_features=1536, bias=False)\n",
       "              (relative_attention_bias): Embedding(32, 24)\n",
       "            )\n",
       "            (layer_norm): T5LayerNorm()\n",
       "            (dropout): Dropout(p=0.1, inplace=False)\n",
       "          )\n",
       "          (1): T5LayerFF(\n",
       "            (DenseReluDense): T5DenseGatedActDense(\n",
       "              (wi_0): Linear(in_features=1536, out_features=4096, bias=False)\n",
       "              (wi_1): Linear(in_features=1536, out_features=4096, bias=False)\n",
       "              (wo): Linear(in_features=4096, out_features=1536, bias=False)\n",
       "              (dropout): Dropout(p=0.1, inplace=False)\n",
       "              (act): NewGELUActivation()\n",
       "            )\n",
       "            (layer_norm): T5LayerNorm()\n",
       "            (dropout): Dropout(p=0.1, inplace=False)\n",
       "          )\n",
       "        )\n",
       "      )\n",
       "      (1-23): 23 x T5Block(\n",
       "        (layer): ModuleList(\n",
       "          (0): T5LayerSelfAttention(\n",
       "            (SelfAttention): T5Attention(\n",
       "              (q): Linear(in_features=1536, out_features=1536, bias=False)\n",
       "              (k): Linear(in_features=1536, out_features=1536, bias=False)\n",
       "              (v): Linear(in_features=1536, out_features=1536, bias=False)\n",
       "              (o): Linear(in_features=1536, out_features=1536, bias=False)\n",
       "            )\n",
       "            (layer_norm): T5LayerNorm()\n",
       "            (dropout): Dropout(p=0.1, inplace=False)\n",
       "          )\n",
       "          (1): T5LayerFF(\n",
       "            (DenseReluDense): T5DenseGatedActDense(\n",
       "              (wi_0): Linear(in_features=1536, out_features=4096, bias=False)\n",
       "              (wi_1): Linear(in_features=1536, out_features=4096, bias=False)\n",
       "              (wo): Linear(in_features=4096, out_features=1536, bias=False)\n",
       "              (dropout): Dropout(p=0.1, inplace=False)\n",
       "              (act): NewGELUActivation()\n",
       "            )\n",
       "            (layer_norm): T5LayerNorm()\n",
       "            (dropout): Dropout(p=0.1, inplace=False)\n",
       "          )\n",
       "        )\n",
       "      )\n",
       "    )\n",
       "    (final_layer_norm): T5LayerNorm()\n",
       "    (dropout): Dropout(p=0.1, inplace=False)\n",
       "  )\n",
       "  (decoder): T5Stack(\n",
       "    (embed_tokens): Embedding(50365, 1536)\n",
       "    (block): ModuleList(\n",
       "      (0): T5Block(\n",
       "        (layer): ModuleList(\n",
       "          (0): T5LayerSelfAttention(\n",
       "            (SelfAttention): T5Attention(\n",
       "              (q): Linear(in_features=1536, out_features=1536, bias=False)\n",
       "              (k): Linear(in_features=1536, out_features=1536, bias=False)\n",
       "              (v): Linear(in_features=1536, out_features=1536, bias=False)\n",
       "              (o): Linear(in_features=1536, out_features=1536, bias=False)\n",
       "              (relative_attention_bias): Embedding(32, 24)\n",
       "            )\n",
       "            (layer_norm): T5LayerNorm()\n",
       "            (dropout): Dropout(p=0.1, inplace=False)\n",
       "          )\n",
       "          (1): T5LayerCrossAttention(\n",
       "            (EncDecAttention): T5Attention(\n",
       "              (q): Linear(in_features=1536, out_features=1536, bias=False)\n",
       "              (k): Linear(in_features=1536, out_features=1536, bias=False)\n",
       "              (v): Linear(in_features=1536, out_features=1536, bias=False)\n",
       "              (o): Linear(in_features=1536, out_features=1536, bias=False)\n",
       "            )\n",
       "            (layer_norm): T5LayerNorm()\n",
       "            (dropout): Dropout(p=0.1, inplace=False)\n",
       "          )\n",
       "          (2): T5LayerFF(\n",
       "            (DenseReluDense): T5DenseGatedActDense(\n",
       "              (wi_0): Linear(in_features=1536, out_features=4096, bias=False)\n",
       "              (wi_1): Linear(in_features=1536, out_features=4096, bias=False)\n",
       "              (wo): Linear(in_features=4096, out_features=1536, bias=False)\n",
       "              (dropout): Dropout(p=0.1, inplace=False)\n",
       "              (act): NewGELUActivation()\n",
       "            )\n",
       "            (layer_norm): T5LayerNorm()\n",
       "            (dropout): Dropout(p=0.1, inplace=False)\n",
       "          )\n",
       "        )\n",
       "      )\n",
       "      (1-23): 23 x T5Block(\n",
       "        (layer): ModuleList(\n",
       "          (0): T5LayerSelfAttention(\n",
       "            (SelfAttention): T5Attention(\n",
       "              (q): Linear(in_features=1536, out_features=1536, bias=False)\n",
       "              (k): Linear(in_features=1536, out_features=1536, bias=False)\n",
       "              (v): Linear(in_features=1536, out_features=1536, bias=False)\n",
       "              (o): Linear(in_features=1536, out_features=1536, bias=False)\n",
       "            )\n",
       "            (layer_norm): T5LayerNorm()\n",
       "            (dropout): Dropout(p=0.1, inplace=False)\n",
       "          )\n",
       "          (1): T5LayerCrossAttention(\n",
       "            (EncDecAttention): T5Attention(\n",
       "              (q): Linear(in_features=1536, out_features=1536, bias=False)\n",
       "              (k): Linear(in_features=1536, out_features=1536, bias=False)\n",
       "              (v): Linear(in_features=1536, out_features=1536, bias=False)\n",
       "              (o): Linear(in_features=1536, out_features=1536, bias=False)\n",
       "            )\n",
       "            (layer_norm): T5LayerNorm()\n",
       "            (dropout): Dropout(p=0.1, inplace=False)\n",
       "          )\n",
       "          (2): T5LayerFF(\n",
       "            (DenseReluDense): T5DenseGatedActDense(\n",
       "              (wi_0): Linear(in_features=1536, out_features=4096, bias=False)\n",
       "              (wi_1): Linear(in_features=1536, out_features=4096, bias=False)\n",
       "              (wo): Linear(in_features=4096, out_features=1536, bias=False)\n",
       "              (dropout): Dropout(p=0.1, inplace=False)\n",
       "              (act): NewGELUActivation()\n",
       "            )\n",
       "            (layer_norm): T5LayerNorm()\n",
       "            (dropout): Dropout(p=0.1, inplace=False)\n",
       "          )\n",
       "        )\n",
       "      )\n",
       "    )\n",
       "    (final_layer_norm): T5LayerNorm()\n",
       "    (dropout): Dropout(p=0.1, inplace=False)\n",
       "  )\n",
       "  (lm_head): Linear(in_features=1536, out_features=50365, bias=False)\n",
       ")"
      ]
     },
     "execution_count": 2,
     "metadata": {},
     "output_type": "execute_result"
    }
   ],
   "source": [
    "model_name = \"IlyaGusev/fred_t5_ru_turbo_alpaca\"\n",
    "\n",
    "generation_config = GenerationConfig.from_pretrained(model_name)\n",
    "\n",
    "tokenizer = AutoTokenizer.from_pretrained(model_name)\n",
    "model = AutoModelForSeq2SeqLM.from_pretrained(model_name).to(\"cuda\")\n",
    "model.eval()"
   ]
  },
  {
   "cell_type": "code",
   "execution_count": 3,
   "id": "0b7560f9",
   "metadata": {},
   "outputs": [],
   "source": [
    "def get_summarize(text):\n",
    "    sample = f\"Задание: Суммаризируй текст, сохряняя важные детали.\\nДано: {text}\"\n",
    "    data = tokenizer(sample, return_tensors=\"pt\")\n",
    "    data = {k: v.to(model.device) for k, v in data.items()}\n",
    "    output_ids = model.generate(\n",
    "        **data,\n",
    "        generation_config=generation_config\n",
    "    )[0]\n",
    "    #torch.cuda.empty_cache()\n",
    "    return tokenizer.decode(output_ids.tolist())"
   ]
  },
  {
   "cell_type": "code",
   "execution_count": 20,
   "id": "bc839762",
   "metadata": {},
   "outputs": [],
   "source": [
    "def get_summarize(text):\n",
    "    sample = f\"Задание: краткое содержание:\\nДано: {text}\"\n",
    "    data = tokenizer(sample, return_tensors=\"pt\")\n",
    "    data = {k: v.to(model.device) for k, v in data.items()}\n",
    "    output_ids = model.generate(\n",
    "        **data,\n",
    "        generation_config=generation_config\n",
    "    )[0]\n",
    "    #torch.cuda.empty_cache()\n",
    "    return tokenizer.decode(output_ids.tolist())"
   ]
  },
  {
   "cell_type": "code",
   "execution_count": 4,
   "id": "8c2564f6",
   "metadata": {},
   "outputs": [],
   "source": [
    "def get_sum_df(old_df):\n",
    "    df = old_df.copy()\n",
    "    columns = [\"Описание\"]\n",
    "    \n",
    "    for i in tqdm(range(len(df))):\n",
    "        for column in columns:\n",
    "            text = df.iloc[i][column]\n",
    "            if type(text) == str:\n",
    "                \n",
    "                #if len(text) > 12000:\n",
    "                #    text = text[:6000]\n",
    "                #    print(\"=============\")\n",
    "                #    print(i)\n",
    "                #    print(column)\n",
    "                #    print(len(text))\n",
    "                #    print(\"=============\")\n",
    "                    \n",
    "                df.iloc[i][column] = get_summarize(text)\n",
    "    \n",
    "    return df"
   ]
  },
  {
   "cell_type": "code",
   "execution_count": 5,
   "id": "805d320c",
   "metadata": {},
   "outputs": [],
   "source": [
    "df = pd.read_csv(\"atlas_raw.csv\")"
   ]
  },
  {
   "cell_type": "code",
   "execution_count": 7,
   "id": "dcc40c55",
   "metadata": {},
   "outputs": [
    {
     "name": "stderr",
     "output_type": "stream",
     "text": [
      "  0%|          | 0/100 [00:00<?, ?it/s]/usr/local/lib/python3.10/dist-packages/transformers/generation/utils.py:1346: UserWarning: Using `max_length`'s default (512) to control the generation length. This behaviour is deprecated and will be removed from the config in v5 of Transformers -- we recommend using `max_new_tokens` to control the maximum length of the generation.\n",
      "  warnings.warn(\n",
      "100%|██████████| 100/100 [07:56<00:00,  4.76s/it]\n"
     ]
    }
   ],
   "source": [
    "part1 = df.iloc[:100].copy()\n",
    "new_part1 = get_sum_df(part1)\n",
    "new_part1.to_csv(\"part1.1.csv\")"
   ]
  },
  {
   "cell_type": "code",
   "execution_count": 8,
   "id": "9488ba0b",
   "metadata": {},
   "outputs": [
    {
     "name": "stderr",
     "output_type": "stream",
     "text": [
      "  2%|▏         | 2/93 [00:19<15:48, 10.43s/it]"
     ]
    },
    {
     "name": "stdout",
     "output_type": "stream",
     "text": [
      "=============\n",
      "2\n",
      "Описание\n",
      "6000\n",
      "=============\n"
     ]
    },
    {
     "name": "stderr",
     "output_type": "stream",
     "text": [
      "100%|██████████| 93/93 [09:08<00:00,  5.89s/it]\n"
     ]
    }
   ],
   "source": [
    "part2 = df.iloc[100:].copy()\n",
    "new_part2 = get_sum_df(part2)\n",
    "new_part2.to_csv(\"part2.2.csv\")"
   ]
  },
  {
   "cell_type": "code",
   "execution_count": 20,
   "id": "85fb07df",
   "metadata": {},
   "outputs": [
    {
     "name": "stdout",
     "output_type": "stream",
     "text": [
      "Описание. Маловетвистый колючий кустарник \n",
      "\n",
      "с многочисленными стволами (до 25 и более), высотой \n",
      "1,5-2, реже до 4-5 м. Корневая система расположена \n",
      "в верхнем слое почвы. Корневище сильно разветвлён-\n",
      "ное, цилиндрическое, упругое, диаметром 0,6-3 (очень \n",
      "редко 4-5) см, с придаточными корнями, наиболее мно-\n",
      "гочисленными в зоне выхода надземных побегов на \n",
      "поверхность. У хорошо развитых кустов общая длина \n",
      "корневища с корнями иногда достигает 30 м. Побеги \n",
      "прямые, со светло-серой корой, густо усажены, особен-\n",
      "но в нижней части, игловидными, вниз отклоненными, \n",
      "ломкими, до 1 см длиной шипами, реже — без шипов. \n",
      "Листья черешковые, длина черешка 8-13 см. Листо-\n",
      "вая пластинка округло-пятиугольная, до 15 см длиной \n",
      "и шириной; пальчатосложная, с 5-ю листочками, на \n",
      "черешочках 7-15 мм длиной; листочки эллиптические \n",
      "или обратноланцетные, с клиновидным основанием \n",
      "и узкой, довольно длинной оттянутой верхушкой, двоя-\n",
      "козубчатые, с обеих сторон зеленые, опушенные корот-\n",
      "кими, снизу по жилкам более жесткими волосками; три \n",
      "средних листочка заметно крупнее двух боковых. Цвет-\n",
      "ки обоеполые или однополые, мелкие, на длинных цве-\n",
      "\n",
      "тоножках, одиночные или чаще собраны по 2-5 (реже \n",
      "по 1-2) в рыхлые, почти шаровидные зонтики, распо-\n",
      "ложенные на концах побегов; обычно конечный зонтик \n",
      "плодущий, а остальные более мелкие, часто располо-\n",
      "женные мутовчато, стерильные. Тычиночные и обоепо-\n",
      "лые цветки бледно-фиолетовые, пестичные — желтова-\n",
      "тые; лепестки, с внутренней стороны — зеленовато-бе-\n",
      "лые или белые, до 3 мм длиной, ланцетные; столбик до \n",
      "1,5-2 мм длиной, рыльца пестика в числе 5, короткие, \n",
      "свободные. Плоды — черные, почти шаровидные син-\n",
      "карпные костянки диаметром 7-10 мм, несколько сжа-\n",
      "тые с полюсов, в сухом состоянии с 5 сильно выступа-\n",
      "ющими ребрами; с 5 крупными, сильно сплющенными \n",
      "с боков, косточками. Плоды со своеобразным запахом. \n",
      "Семена имеют форму полумесяца, желтоватые, дли-\n",
      "ной 3,5-8,5 мм, с мелкоячеистой поверхностью. Масса \n",
      "1000 свежесобранных семян (косточек) 7-16 г, воздуш-\n",
      "но-сухих — 5-10 г.\n",
      "\n",
      "Диплоидный набор хромосом 2n=48.\n",
      "Цветет в июле-августе; плоды созревают в сентя-\n",
      "\n",
      "бре-октябре. \n",
      "Лекарственным растительным сырьем являются \n",
      "\n",
      "\n",
      "\n",
      "464\n",
      "\n",
      "корневища и корни растения.\n",
      "\n"
     ]
    }
   ],
   "source": [
    "print(part2.iloc[45][\"Описание\"])"
   ]
  },
  {
   "cell_type": "code",
   "execution_count": 21,
   "id": "2bd8b276",
   "metadata": {},
   "outputs": [
    {
     "name": "stdout",
     "output_type": "stream",
     "text": [
      "<s>Выходные данные: Маловетвистый кустарник с многочисленными \n",
      "стволами (до 25 и более), высотой до 4-5 м. Корневище \n",
      "сильно разветвленное, цилиндрическое, упругое, диаметром \n",
      "0,6-3 (очень редко 4-5) см, с придаточными корнями, наиболее \n",
      "многочисленными в зоне выхода надземных побегов на \n",
      "поверхность. Листья черешковые, длина черешка 8-13 см. \n",
      "Листочки эллиптические или обратноланцетные, с \n",
      "клиновидным основанием и узкой, довольно длинной \n",
      "оттянутой верхушкой, двояко-козубчатые, с обеих сторон \n",
      "зеленые, опушенные коротенькими, снизу более жесткими \n",
      "волосами. Цветки обоеполые или однополые, мелкие, на \n",
      "длинных цветоножках, часто собраны по 2-5 (реже по 1-2) в рыхлые, \n",
      "почти шаровидные, с 5 крупными, сильно сплющенными с боков, \n",
      "косточками. Масса 1000 свежесобранных семян (косточек) \n",
      "7-16 г, воздушно-сухих — 5-10 г.</s>\n"
     ]
    }
   ],
   "source": [
    "print(new_part2.iloc[45][\"Описание\"])"
   ]
  },
  {
   "cell_type": "code",
   "execution_count": null,
   "id": "e3d94738",
   "metadata": {},
   "outputs": [],
   "source": []
  }
 ],
 "metadata": {
  "kernelspec": {
   "display_name": "Python 3 (ipykernel)",
   "language": "python",
   "name": "python3"
  },
  "language_info": {
   "codemirror_mode": {
    "name": "ipython",
    "version": 3
   },
   "file_extension": ".py",
   "mimetype": "text/x-python",
   "name": "python",
   "nbconvert_exporter": "python",
   "pygments_lexer": "ipython3",
   "version": "3.10.9"
  }
 },
 "nbformat": 4,
 "nbformat_minor": 5
}
