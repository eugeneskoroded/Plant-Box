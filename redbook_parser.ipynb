{
 "cells": [
  {
   "cell_type": "code",
   "execution_count": 1,
   "metadata": {},
   "outputs": [],
   "source": [
    "import requests\n",
    "from bs4 import BeautifulSoup\n",
    "import re\n",
    "import time"
   ]
  },
  {
   "cell_type": "code",
   "execution_count": 2,
   "metadata": {},
   "outputs": [],
   "source": [
    "def red_book(name_of_plant):\n",
    "    name_of_plant=name_of_plant.replace(\" \", \"+\")\n",
    "    \n",
    "    url = f\"https://www.plantarium.ru/page/search.html?sample={name_of_plant}\"\n",
    "    try:\n",
    "        search_engine = requests.get(url)\n",
    "    except:\n",
    "        time.sleep(2.5)\n",
    "        search_engine = requests.get(url)\n",
    "    soup = BeautifulSoup(search_engine.text)\n",
    "   \n",
    "    search_page =  soup.find_all('a', {'class': 'command'})\n",
    "    for item in search_page:\n",
    "        try:\n",
    "            plant_page=str(item[\"href\"]) if item[\"href\"]!=\"javascript://show search hint\" else \"\"\n",
    "        except:\n",
    "            next\n",
    "    if plant_page==\"\":\n",
    "        return []\n",
    "    url = \"https://www.plantarium.ru\"+plant_page\n",
    "    try:\n",
    "        search_engine = requests.get(url)\n",
    "    except:\n",
    "        time.sleep(2.5)\n",
    "        search_engine = requests.get(url)\n",
    "    soup = BeautifulSoup(search_engine.text)\n",
    "    try:\n",
    "        red_book_block = soup.find('div', {'id': 'redbooks'}).find_all(\"p\")\n",
    "        # Исключение неактуальных дат\n",
    "        # years = [re.sub(\"[^0-9a-zA-Z]+\",\"\",\n",
    "        #                 re.sub(\"<.*?>\",\"\",\n",
    "        #                 re.sub(\"<a.+>.+</a>\",'',str(item)))) for item in soup.find('div', {'id': 'redbooks'}).find_all(\"p\")]\n",
    "       \n",
    "    except:\n",
    "        return []\n",
    "    \n",
    "    if len(red_book_block) == 0:\n",
    "        return []\n",
    "    else:\n",
    "        red_book_regions = [str(region.find(\"a\").contents[0]) for region in red_book_block]\n",
    "        return list(set(red_book_regions))"
   ]
  },
  {
   "cell_type": "code",
   "execution_count": 3,
   "metadata": {},
   "outputs": [
    {
     "data": {
      "text/plain": [
       "['Брянская область',\n",
       " 'Финляндия',\n",
       " 'Тульская область',\n",
       " 'Восточная Фенноскандия',\n",
       " 'Ульяновская область',\n",
       " 'Калужская область',\n",
       " 'Самарская область',\n",
       " 'Саратовская область',\n",
       " 'Мурманская область',\n",
       " 'Балтийский регион',\n",
       " 'Город Москва']"
      ]
     },
     "execution_count": 3,
     "metadata": {},
     "output_type": "execute_result"
    }
   ],
   "source": [
    "red_book(\"Борец северный\")"
   ]
  },
  {
   "cell_type": "code",
   "execution_count": null,
   "metadata": {},
   "outputs": [],
   "source": []
  }
 ],
 "metadata": {
  "kernelspec": {
   "display_name": "Python 3",
   "language": "python",
   "name": "python3"
  },
  "language_info": {
   "codemirror_mode": {
    "name": "ipython",
    "version": 3
   },
   "file_extension": ".py",
   "mimetype": "text/x-python",
   "name": "python",
   "nbconvert_exporter": "python",
   "pygments_lexer": "ipython3",
   "version": "3.8.5"
  }
 },
 "nbformat": 4,
 "nbformat_minor": 4
}
